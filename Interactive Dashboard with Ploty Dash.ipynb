{
    "cells": [
        {
            "cell_type": "code",
            "execution_count": null,
            "id": "79e88a93",
            "metadata": {},
            "outputs": [],
            "source": "# Import required libraries\nimport pandas as pd\nimport dash\nimport dash_html_components as html\nimport dash_core_components as dcc\nfrom dash.dependencies import Input, Output\nimport plotly.express as px\n#wget \"https://cf-courses-data.s3.us.cloud-object-storage.appdomain.cloud/IBM-DS0321EN-SkillsNetwork/datasets/spacex_launch_dash.csv\"\n# Read the airline data into pandas dataframe\nspacex_df = pd.read_csv('https://cf-courses-data.s3.us.cloud-object-storage.appdomain.cloud/IBM-DS0321EN-SkillsNetwork/datasets/spacex_launch_dash.csv')\nmax_payload = spacex_df['Payload Mass (kg)'].max()\n\nmin_payload = spacex_df['Payload Mass (kg)'].min()\n\n#filtered_df = spacex_df.filter(like='CCAFS LC-40', axis=0)\n#print(filtered_df)\n\n# Create a dash application\napp = dash.Dash(__name__)\n\n# Create an app layout\napp.layout = html.Div(children=[html.H1('SpaceX Launch Records Dashboard',\n                                        style={'textAlign': 'center', 'color': '#503D36',\n                                               'font-size': 40}),\n                                # TASK 1: Add a dropdown list to enable Launch Site selection\n                                # The default select value is for ALL sites\n                                # dcc.Dropdown(id='site-dropdown',...)\n                                dcc.Dropdown(id='site-dropdown',\n                                    options=[\n                                        {'label': 'All Sites', 'value': 'ALL'},\n                                        {'label': 'CCAFS LC-40', 'value': 'CCAFS LC-40'},\n                                        {'label': 'CCAFS SLC-40', 'value': 'CCAFS SLC-40'},\n                                        {'label': 'KSC LC-39A', 'value': 'KSC LC-39A'},\n                                        {'label': 'VAFB SLC-4E', 'value': 'VAFB SLC-4E'},\n                                    ],\n                                    value='ALL',\n                                    placeholder=\"Select a Lunch Site\",\n                                    searchable=True\n                                    ),\n                                html.Br(),\n\n                                # TASK 2: Add a pie chart to show the total successful launches count for all sites\n                                # If a specific launch site was selected, show the Success vs. Failed counts for the site                           \n                                \n                                html.Div(dcc.Graph(id='success-pie-chart')),\n                                html.Br(),\n\n                                html.P(\"Payload range (Kg):\"),\n                                # TASK 3: Add a slider to select payload range\n                                dcc.RangeSlider(id='payload-slider',\n                                                min=0, max=10000, step=1000,\n                                                marks={0: '0', 1000: '1000', 2000: '2000', 3000: '3000', 4000: '4000', 5000: '5000', 6000: '6000', 7000: '7000', 8000: '8000', 9000: '9000', 10000: '10000'},\n                                                value=[min_payload, max_payload]),\n                                \n\n                                # TASK 4: Add a scatter chart to show the correlation between payload and launch success\n                                html.Div(dcc.Graph(id='success-payload-scatter-chart')),\n                                ])\n\n# TASK 2:\n# Add a callback function for `site-dropdown` as input, `success-pie-chart` as output   \n@app.callback(Output(component_id='success-pie-chart', component_property='figure'),\n              Input(component_id='site-dropdown', component_property='value'))\ndef get_pie_chart(entered_site):\n    filtered_df = spacex_df    \n    if entered_site == 'ALL':\n        fig = px.pie(filtered_df, values='class', \n        names='Launch Site', \n        title='Total Success Launches By All Sites')\n        return fig\n    else:\n        filtered_df = spacex_df[spacex_df['Launch Site'] == entered_site]\n        filtered_df = filtered_df.groupby(['class']).size().reset_index(name='count')\n        fig = px.pie(filtered_df, values='count', \n        names='class', \n        title=f'Total Success Launched for site {entered_site}')\n        return fig\n\n# TASK 4:\n# Add a callback function for `site-dropdown` and `payload-slider` as inputs, `success-payload-scatter-chart` as output\n@app.callback(Output(component_id='success-payload-scatter-chart', component_property='figure'),\n              [Input(component_id='site-dropdown', component_property='value'),\n              Input(component_id=\"payload-slider\", component_property=\"value\")])\n\ndef get_scatter_chart(entered_site, payload_mass):\n    low, high = payload_mass\n    filtered_df = spacex_df[(spacex_df[\"Payload Mass (kg)\"]>low)&(spacex_df[\"Payload Mass (kg)\"]<high)]\n    if entered_site == 'ALL':\n        fig = px.scatter(filtered_df,\n                         x = \"Payload Mass (kg)\", y = \"class\",\n                         color = \"Booster Version Category\",\n                         title = 'Payload Mass vs. Success for all Sites')\n        return fig\n    else:\n        filtered_df = filtered_df[filtered_df['Launch Site'] == entered_site]\n        fig = px.scatter(filtered_df,\n                         x = \"Payload Mass (kg)\", y = \"class\",\n                         color = \"Booster Version Category\",\n                         title = f'Payload Mass vs. Success for site {entered_site}')\n        return fig\n\n\n\n# Run the app\nif __name__ == '__main__':\n    app.run_server()\n"
        },
        {
            "cell_type": "code",
            "execution_count": null,
            "id": "428b7dda",
            "metadata": {},
            "outputs": [],
            "source": ""
        },
        {
            "cell_type": "code",
            "execution_count": null,
            "id": "79b95519",
            "metadata": {},
            "outputs": [],
            "source": ""
        }
    ],
    "metadata": {
        "kernelspec": {
            "display_name": "Python 3.9",
            "language": "python",
            "name": "python3"
        },
        "language_info": {
            "codemirror_mode": {
                "name": "ipython",
                "version": 3
            },
            "file_extension": ".py",
            "mimetype": "text/x-python",
            "name": "python",
            "nbconvert_exporter": "python",
            "pygments_lexer": "ipython3",
            "version": "3.9.7"
        }
    },
    "nbformat": 4,
    "nbformat_minor": 5
}